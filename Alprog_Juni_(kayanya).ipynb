{
  "nbformat": 4,
  "nbformat_minor": 0,
  "metadata": {
    "colab": {
      "provenance": [],
      "authorship_tag": "ABX9TyPyf1P08yVazI2pz0myNi+X",
      "include_colab_link": true
    },
    "kernelspec": {
      "name": "python3",
      "display_name": "Python 3"
    },
    "language_info": {
      "name": "python"
    }
  },
  "cells": [
    {
      "cell_type": "markdown",
      "metadata": {
        "id": "view-in-github",
        "colab_type": "text"
      },
      "source": [
        "<a href=\"https://colab.research.google.com/github/sahdahx/Alprog_2024/blob/main/Alprog_Juni_(kayanya).ipynb\" target=\"_parent\"><img src=\"https://colab.research.google.com/assets/colab-badge.svg\" alt=\"Open In Colab\"/></a>"
      ]
    },
    {
      "cell_type": "markdown",
      "source": [],
      "metadata": {
        "id": "cmz0OtDoR75Y"
      }
    },
    {
      "cell_type": "code",
      "execution_count": null,
      "metadata": {
        "colab": {
          "base_uri": "https://localhost:8080/"
        },
        "id": "JmMlRfSxR5a6",
        "outputId": "260006e5-ac07-43c1-9364-ada532b82971"
      },
      "outputs": [
        {
          "output_type": "stream",
          "name": "stdout",
          "text": [
            "2\n",
            "2\n",
            "5\n",
            "5\n",
            "Done\n"
          ]
        }
      ],
      "source": [
        "def fakt_prima(number):\n",
        "    factor = 2\n",
        "\n",
        "    while factor <= number:\n",
        "        if number % factor == 0:\n",
        "            print(factor)\n",
        "            number = number // factor\n",
        "        else:\n",
        "            factor += 1\n",
        "    return \"Done\"\n",
        "\n",
        "# Contoh penggunaan\n",
        "print(fakt_prima(100))"
      ]
    },
    {
      "cell_type": "code",
      "source": [
        "def barisan_aritmatika(n, a, b):\n",
        "    i = 1\n",
        "    while i <= n:\n",
        "        d = a + (i - 1) * b\n",
        "        print(d, \", \", end=\"\")\n",
        "        i += 1\n",
        "\n",
        "# Contoh penggunaan\n",
        "barisan_aritmatika(5, 2, 3)"
      ],
      "metadata": {
        "colab": {
          "base_uri": "https://localhost:8080/"
        },
        "id": "KWhuEnxoR6w5",
        "outputId": "c3c7ee07-2c74-4420-848c-d07a3066c91c"
      },
      "execution_count": null,
      "outputs": [
        {
          "output_type": "stream",
          "name": "stdout",
          "text": [
            "2 , 5 , 8 , 11 , 14 , "
          ]
        }
      ]
    },
    {
      "cell_type": "code",
      "source": [
        "import math\n",
        "\n",
        "# Menghitung nilai sinus dari 25 derajat\n",
        "sudut_derajat = 25\n",
        "sudut_radian = math.radians(sudut_derajat)\n",
        "nilai_sinus = math.sin(sudut_radian)\n",
        "\n",
        "print(nilai_sinus)"
      ],
      "metadata": {
        "colab": {
          "base_uri": "https://localhost:8080/"
        },
        "id": "B10sJlJpSxLK",
        "outputId": "74649903-5aac-47f4-be4d-055061bb805d"
      },
      "execution_count": null,
      "outputs": [
        {
          "output_type": "stream",
          "name": "stdout",
          "text": [
            "0.42261826174069944\n"
          ]
        }
      ]
    },
    {
      "cell_type": "code",
      "source": [
        "import csv\n",
        "\n",
        "def saldo(M, b, n):\n",
        "    s = M\n",
        "    for _ in range(n):\n",
        "        s += s * (b / 100) - 5000\n",
        "    return s\n",
        "\n",
        "path = r'D:\\dokumenku\\2024\\tabungan.csv'\n",
        "\n",
        "with open(path, 'r') as f:\n",
        "    r = csv.DictReader(f)\n",
        "    for i, row in enumerate(r):\n",
        "        if i == 4:  # Index 4 adalah nasabah ke-5\n",
        "            M = float(row['modal_awal'])\n",
        "            n = int(row['bulan'])\n",
        "            break\n",
        "\n",
        "b = 0.15\n",
        "print(saldo(M, b, n))  # Cetak saldo akhir nasabah ke-5"
      ],
      "metadata": {
        "id": "SEe9HG8dSzXm"
      },
      "execution_count": null,
      "outputs": []
    },
    {
      "cell_type": "code",
      "source": [
        "def est_geom1(data):\n",
        "    if not all(x > 0 for x in data):\n",
        "        return \"Input harus berupa bilangan positif.\"\n",
        "    n = len(data)\n",
        "    sum_x = sum(data)\n",
        "    theta = n / sum_x\n",
        "    return f\"Hasil estimasi: theta = {theta:.2f}\"\n",
        "\n",
        "# Contoh penggunaan\n",
        "dt1 = [4, 6, 5]\n",
        "print(est_geom1(dt1))\n",
        "\n",
        "dt2 = [2, 8, 5, 3, -4]\n",
        "print(est_geom1(dt2))"
      ],
      "metadata": {
        "colab": {
          "base_uri": "https://localhost:8080/"
        },
        "id": "w1_Roj70Sz3G",
        "outputId": "801ee27a-aa91-43c5-ed81-d1796bbf4a42"
      },
      "execution_count": null,
      "outputs": [
        {
          "output_type": "stream",
          "name": "stdout",
          "text": [
            "Hasil estimasi: theta = 0.20\n",
            "Input harus berupa bilangan positif.\n"
          ]
        }
      ]
    },
    {
      "cell_type": "code",
      "source": [
        "def est_geom2(*data):\n",
        "    if not all(x > 0 for x in data):\n",
        "        return \"Input harus berupa bilangan positif.\"\n",
        "    n = len(data)\n",
        "    sum_x = sum(data)\n",
        "    theta = n / sum_x\n",
        "    return f\"Hasil estimasi: theta = {theta:.2f}\"\n",
        "\n",
        "# Contoh penggunaan\n",
        "print(est_geom2(4, 6, 5))\n",
        "print(est_geom2(2, 8, 5, 3, -4))"
      ],
      "metadata": {
        "id": "tUTESOVgUAHf"
      },
      "execution_count": null,
      "outputs": []
    }
  ]
}